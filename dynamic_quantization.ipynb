{
 "cells": [
  {
   "cell_type": "code",
   "execution_count": 1,
   "id": "a1ec8d3a",
   "metadata": {},
   "outputs": [],
   "source": [
    "import torch\n",
    "import torch.nn as nn\n",
    "import torch.nn.functional as F\n",
    "import torch.optim as optim\n",
    "from torchvision import datasets, transforms\n",
    "from torch.utils.data import DataLoader\n",
    "from pathlib import Path\n",
    "import os"
   ]
  },
  {
   "cell_type": "code",
   "execution_count": 2,
   "id": "8b69d369",
   "metadata": {},
   "outputs": [
    {
     "data": {
      "text/plain": [
       "<torch._C.Generator at 0x18eb3934e30>"
      ]
     },
     "execution_count": 2,
     "metadata": {},
     "output_type": "execute_result"
    }
   ],
   "source": [
    "device = torch.device(\"cuda\" if torch.cuda.is_available() else \"cpu\")\n",
    "torch.manual_seed(42)"
   ]
  },
  {
   "cell_type": "code",
   "execution_count": 9,
   "id": "1498a371",
   "metadata": {},
   "outputs": [],
   "source": [
    "transform = transforms.Compose([transforms.ToTensor(), transforms.Normalize((0.1307,), (0.3081))])\n",
    "\n",
    "train_dataset = datasets.MNIST('data/', train=True, transform=transform)\n",
    "test_dataset = datasets.MNIST('data/', train=False, transform=transform)\n",
    "\n",
    "train_loader = DataLoader(train_dataset, batch_size=64, shuffle=True)\n",
    "test_loader = DataLoader(test_dataset, batch_size=1000, shuffle=True)"
   ]
  },
  {
   "cell_type": "code",
   "execution_count": 10,
   "id": "17e82937",
   "metadata": {},
   "outputs": [],
   "source": [
    "class MLP(nn.Module):\n",
    "    def __init__(self):\n",
    "        super(MLP, self).__init__()\n",
    "        self.fc1 = nn.Linear(28 * 28, 64)\n",
    "        self.relu1 = nn.ReLU()\n",
    "        self.fc2 = nn.Linear(64, 64)\n",
    "        self.relu2 = nn.ReLU()\n",
    "        self.fc3 = nn.Linear(64, 10)\n",
    "\n",
    "    def forward(self, x):\n",
    "        x = x.view(-1, 28 * 28)\n",
    "        x = self.relu1(self.fc1(x))\n",
    "        x = self.relu2(self.fc2(x))\n",
    "        x = self.fc3(x)\n",
    "        return x"
   ]
  },
  {
   "cell_type": "code",
   "execution_count": 11,
   "id": "6866a9c7",
   "metadata": {},
   "outputs": [],
   "source": [
    "def train(model, device, train_loader, optimizer, epoch):\n",
    "    model.train()\n",
    "    criterion = nn.CrossEntropyLoss()\n",
    "    for batch_idx, (data, target) in enumerate(train_loader):\n",
    "        data, target = data.to(device), target.to(device)\n",
    "        optimizer.zero_grad()\n",
    "        output = model(data)\n",
    "        loss = criterion(output, target)\n",
    "        loss.backward()\n",
    "        optimizer.step()\n",
    "        if batch_idx % 100 == 0:\n",
    "           print(f'Train Epoch: {epoch} [{batch_idx*len(data)}/{len(train_loader.dataset)}] Loss: {loss.item():.6f}')"
   ]
  },
  {
   "cell_type": "code",
   "execution_count": 12,
   "id": "933cc103",
   "metadata": {},
   "outputs": [],
   "source": [
    "def test(model, device, test_loader):\n",
    "    model.eval()\n",
    "    correct = 0\n",
    "    with torch.no_grad():\n",
    "        for data, target in test_loader:\n",
    "            data, target = data.to(device), target.to(device)\n",
    "            output = model(data)\n",
    "            pred = output.argmax(dim=1)\n",
    "            correct += pred.eq(target).sum().item()\n",
    "    accuracy = 100. * correct / len(test_loader.dataset)\n",
    "    print(f'\\nTest Accuracy: {accuracy:.2f}%\\n')\n",
    "    return accuracy"
   ]
  },
  {
   "cell_type": "code",
   "execution_count": 13,
   "id": "f27b32cd",
   "metadata": {},
   "outputs": [],
   "source": [
    "float_model = MLP().to(device)\n",
    "optimizer = optim.Adam(float_model.parameters(), lr=0.001)"
   ]
  },
  {
   "cell_type": "code",
   "execution_count": 14,
   "id": "44e27314",
   "metadata": {},
   "outputs": [
    {
     "name": "stdout",
     "output_type": "stream",
     "text": [
      "Train Epoch: 1 [0/60000] Loss: 2.318032\n",
      "Train Epoch: 1 [6400/60000] Loss: 0.376820\n",
      "Train Epoch: 1 [12800/60000] Loss: 0.284974\n",
      "Train Epoch: 1 [19200/60000] Loss: 0.210929\n",
      "Train Epoch: 1 [25600/60000] Loss: 0.341595\n",
      "Train Epoch: 1 [32000/60000] Loss: 0.094097\n",
      "Train Epoch: 1 [38400/60000] Loss: 0.387732\n",
      "Train Epoch: 1 [44800/60000] Loss: 0.111830\n",
      "Train Epoch: 1 [51200/60000] Loss: 0.203923\n",
      "Train Epoch: 1 [57600/60000] Loss: 0.107853\n",
      "Train Epoch: 2 [0/60000] Loss: 0.128295\n",
      "Train Epoch: 2 [6400/60000] Loss: 0.025936\n",
      "Train Epoch: 2 [12800/60000] Loss: 0.133234\n",
      "Train Epoch: 2 [19200/60000] Loss: 0.180191\n",
      "Train Epoch: 2 [25600/60000] Loss: 0.185546\n",
      "Train Epoch: 2 [32000/60000] Loss: 0.072283\n",
      "Train Epoch: 2 [38400/60000] Loss: 0.098344\n",
      "Train Epoch: 2 [44800/60000] Loss: 0.158319\n",
      "Train Epoch: 2 [51200/60000] Loss: 0.157196\n",
      "Train Epoch: 2 [57600/60000] Loss: 0.191299\n",
      "Train Epoch: 3 [0/60000] Loss: 0.113984\n",
      "Train Epoch: 3 [6400/60000] Loss: 0.216496\n",
      "Train Epoch: 3 [12800/60000] Loss: 0.015608\n",
      "Train Epoch: 3 [19200/60000] Loss: 0.130221\n",
      "Train Epoch: 3 [25600/60000] Loss: 0.071547\n",
      "Train Epoch: 3 [32000/60000] Loss: 0.158461\n",
      "Train Epoch: 3 [38400/60000] Loss: 0.199473\n",
      "Train Epoch: 3 [44800/60000] Loss: 0.035124\n",
      "Train Epoch: 3 [51200/60000] Loss: 0.082634\n",
      "Train Epoch: 3 [57600/60000] Loss: 0.039739\n",
      "Train Epoch: 4 [0/60000] Loss: 0.111459\n",
      "Train Epoch: 4 [6400/60000] Loss: 0.181121\n",
      "Train Epoch: 4 [12800/60000] Loss: 0.021072\n",
      "Train Epoch: 4 [19200/60000] Loss: 0.079440\n",
      "Train Epoch: 4 [25600/60000] Loss: 0.027954\n",
      "Train Epoch: 4 [32000/60000] Loss: 0.053692\n",
      "Train Epoch: 4 [38400/60000] Loss: 0.211015\n",
      "Train Epoch: 4 [44800/60000] Loss: 0.058421\n",
      "Train Epoch: 4 [51200/60000] Loss: 0.068128\n",
      "Train Epoch: 4 [57600/60000] Loss: 0.044904\n",
      "Train Epoch: 5 [0/60000] Loss: 0.034879\n",
      "Train Epoch: 5 [6400/60000] Loss: 0.089911\n",
      "Train Epoch: 5 [12800/60000] Loss: 0.024919\n",
      "Train Epoch: 5 [19200/60000] Loss: 0.046993\n",
      "Train Epoch: 5 [25600/60000] Loss: 0.196832\n",
      "Train Epoch: 5 [32000/60000] Loss: 0.033176\n",
      "Train Epoch: 5 [38400/60000] Loss: 0.126010\n",
      "Train Epoch: 5 [44800/60000] Loss: 0.063216\n",
      "Train Epoch: 5 [51200/60000] Loss: 0.080834\n",
      "Train Epoch: 5 [57600/60000] Loss: 0.051355\n"
     ]
    }
   ],
   "source": [
    "if not Path(\"mlp_mnist.pth\").exists():\n",
    "    for epoch in range(1, 6):\n",
    "        train(float_model, device, train_loader, optimizer, epoch)\n",
    "    torch.save(float_model.state_dict(), \"mlp_mnist.pth\")\n",
    "else:\n",
    "    float_model.load_state_dict(torch.load(\"mlp_mnist.pth\"))"
   ]
  },
  {
   "cell_type": "code",
   "execution_count": 15,
   "id": "50502f52",
   "metadata": {},
   "outputs": [
    {
     "name": "stdout",
     "output_type": "stream",
     "text": [
      "Float model:\n",
      "\n",
      "Test Accuracy: 97.12%\n",
      "\n"
     ]
    },
    {
     "data": {
      "text/plain": [
       "97.12"
      ]
     },
     "execution_count": 15,
     "metadata": {},
     "output_type": "execute_result"
    }
   ],
   "source": [
    "print(\"Float model:\")\n",
    "test(float_model, device, test_loader)"
   ]
  },
  {
   "cell_type": "code",
   "execution_count": 16,
   "id": "2b5800e5",
   "metadata": {},
   "outputs": [],
   "source": [
    "float_model.cpu()\n",
    "quantized_model = torch.ao.quantization.quantize_dynamic(\n",
    "    float_model,\n",
    "    {nn.Linear},\n",
    "    dtype=torch.qint8\n",
    ")"
   ]
  },
  {
   "cell_type": "code",
   "execution_count": 17,
   "id": "56e4f4ac",
   "metadata": {},
   "outputs": [
    {
     "name": "stdout",
     "output_type": "stream",
     "text": [
      "Quantized model:\n",
      "\n",
      "Test Accuracy: 97.13%\n",
      "\n"
     ]
    },
    {
     "data": {
      "text/plain": [
       "97.13"
      ]
     },
     "execution_count": 17,
     "metadata": {},
     "output_type": "execute_result"
    }
   ],
   "source": [
    "print(\"Quantized model:\")\n",
    "test(quantized_model, torch.device(\"cpu\"), test_loader)"
   ]
  },
  {
   "cell_type": "code",
   "execution_count": 19,
   "id": "344f0c45",
   "metadata": {},
   "outputs": [],
   "source": [
    "def print_size_of_model(model):\n",
    "    torch.save(model.state_dict(), 'temp_delme.p')\n",
    "    print('Size (KB)', os.path.getsize('temp_delme.p') / 1e3)\n",
    "    os.remove('temp_delme.p')"
   ]
  },
  {
   "cell_type": "code",
   "execution_count": 21,
   "id": "0d00fb95",
   "metadata": {},
   "outputs": [
    {
     "name": "stdout",
     "output_type": "stream",
     "text": [
      "Size of float model:\n",
      "Size (KB) 222.822\n",
      "Size of quantized model:\n",
      "Size (KB) 60.066\n"
     ]
    }
   ],
   "source": [
    "print(\"Size of float model:\")\n",
    "print_size_of_model(float_model)\n",
    "\n",
    "print(\"Size of quantized model:\")\n",
    "print_size_of_model(quantized_model)"
   ]
  },
  {
   "cell_type": "markdown",
   "id": "87f71c19",
   "metadata": {},
   "source": []
  }
 ],
 "metadata": {
  "kernelspec": {
   "display_name": "torch",
   "language": "python",
   "name": "python3"
  },
  "language_info": {
   "codemirror_mode": {
    "name": "ipython",
    "version": 3
   },
   "file_extension": ".py",
   "mimetype": "text/x-python",
   "name": "python",
   "nbconvert_exporter": "python",
   "pygments_lexer": "ipython3",
   "version": "3.11.11"
  }
 },
 "nbformat": 4,
 "nbformat_minor": 5
}
